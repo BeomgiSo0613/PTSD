{
 "cells": [
  {
   "cell_type": "code",
   "execution_count": 2,
   "metadata": {},
   "outputs": [],
   "source": [
    "import pandas as pd\n",
    "import numpy as np\n",
    "\n",
    "from scipy import stats\n",
    "\n",
    "import matplotlib.pyplot as plt\n",
    "import seaborn as sns\n",
    "import matplotlib.font_manager as fm\n"
   ]
  },
  {
   "cell_type": "code",
   "execution_count": 3,
   "metadata": {},
   "outputs": [
    {
     "data": {
      "text/plain": [
       "1.0    67\n",
       "0.0    21\n",
       "Name: PTSD, dtype: int64"
      ]
     },
     "execution_count": 3,
     "metadata": {},
     "output_type": "execute_result"
    }
   ],
   "source": [
    "df_analysis = pd.read_csv(\"../../data/preprocess_total_dataset.csv\",index_col=0)\n",
    "df_analysis[\"PTSD\"].value_counts()"
   ]
  },
  {
   "cell_type": "code",
   "execution_count": 6,
   "metadata": {},
   "outputs": [],
   "source": [
    "import pandas as pd\n",
    "import matplotlib.pyplot as plt\n",
    "import seaborn as sns\n",
    "\n",
    "# Set visualization style\n",
    "sns.set(style=\"whitegrid\")\n",
    "\n",
    "# List of variables to analyze\n",
    "variables_to_plot = ['age', 'HbA1C', 'HDL', 'LDL', 'TG', 'CRP', 'SGOT', 'SGPT', 'TSH',\n",
    "                     'Free_T4', 'Protein', 'Albumin', 'BUN', 'Creatinine', 'PTGI_total',\n",
    "                     'GAD_total', 'ISS_total', 'PHQ_total', 'FSSQ_total', 'ERR_1', 'ERR_2',\n",
    "                     'B_COPE_1', 'B_COPE_2', 'B_COPE_3', 'POREST_total', 'avg_press', 'BMI']\n",
    "\n",
    "# Generate box plots and save as images\n",
    "for var in variables_to_plot:\n",
    "    plt.figure(figsize=(8, 6))\n",
    "    sns.boxplot(x='PTSD', y=var, data=df_analysis)\n",
    "    plt.title(f'Boxplot of {var} by PTSD Group')\n",
    "    plt.xlabel('PTSD Group')\n",
    "    plt.ylabel(var)\n",
    "    plt.tight_layout()\n",
    "    plt.savefig(f'boxplot_{var}.png')  # Save the figure\n",
    "    plt.close()  # Close the figure to free up memory\n",
    "\n",
    "# Appropriate visualization for 'sex' variable (bar plot)\n",
    "plt.figure(figsize=(8, 6))\n",
    "sex_counts = df_analysis.groupby(['PTSD', 'sex']).size().reset_index(name='counts')\n",
    "sex_labels = {0: 'Female', 1: 'Male'}\n",
    "sex_counts['sex_label'] = sex_counts['sex'].map(sex_labels)\n",
    "\n",
    "sns.barplot(x='PTSD', y='counts', hue='sex_label', data=sex_counts)\n",
    "plt.title('Sex Distribution by PTSD Group')\n",
    "plt.xlabel('PTSD Group')\n",
    "plt.ylabel('Count')\n",
    "plt.legend(title='Sex')\n",
    "plt.tight_layout()\n",
    "plt.savefig('barplot_sex.png')  # Save the figure\n",
    "plt.close()\n"
   ]
  },
  {
   "cell_type": "code",
   "execution_count": 9,
   "metadata": {},
   "outputs": [],
   "source": [
    "import pandas as pd\n",
    "import matplotlib.pyplot as plt\n",
    "import seaborn as sns\n",
    "\n",
    "# Set visualization style\n",
    "sns.set(style=\"whitegrid\")\n",
    "\n",
    "# List of variables to analyze\n",
    "variables_to_plot = ['age', 'HbA1C', 'HDL', 'LDL', 'TG', 'CRP', 'SGOT', 'SGPT', 'TSH',\n",
    "                     'Free_T4', 'Protein', 'Albumin', 'BUN', 'Creatinine', 'PTGI_total',\n",
    "                     'GAD_total', 'ISS_total', 'PHQ_total', 'FSSQ_total', 'ERR_1', 'ERR_2',\n",
    "                     'B_COPE_1', 'B_COPE_2', 'B_COPE_3', 'POREST_total', 'avg_press', 'BMI']\n",
    "\n",
    "# Generate box plots and save as images\n",
    "for var in variables_to_plot:\n",
    "    plt.figure(figsize=(8, 6))\n",
    "    sns.boxplot(x='PTSD', y=var, data=df_analysis)\n",
    "    plt.title(f'Boxplot of {var} by PTSD Group')\n",
    "    plt.xlabel('PTSD Group')\n",
    "    plt.ylabel(var)\n",
    "    plt.tight_layout()\n",
    "    plt.savefig(f'./img/boxplot_{var}.png')  # Save the figure\n",
    "    plt.close()  # Close the figure to free up memory\n",
    "\n",
    "# Appropriate visualization for 'sex' variable (bar plot)\n",
    "plt.figure(figsize=(8, 6))\n",
    "sex_counts = df_analysis.groupby(['PTSD', 'sex']).size().reset_index(name='counts')\n",
    "sex_labels = {0: 'Female', 1: 'Male'}\n",
    "sex_counts['sex_label'] = sex_counts['sex'].map(sex_labels)\n",
    "\n",
    "sns.barplot(x='PTSD', y='counts', hue='sex_label', data=sex_counts)\n",
    "plt.title('Sex Distribution by PTSD Group')\n",
    "plt.xlabel('PTSD Group')\n",
    "plt.ylabel('Count')\n",
    "plt.legend(title='Sex')\n",
    "plt.tight_layout()\n",
    "plt.savefig('./img/barplot_sex.png')  # Save the figure\n",
    "plt.close()\n"
   ]
  }
 ],
 "metadata": {
  "kernelspec": {
   "display_name": "tensor-mac",
   "language": "python",
   "name": "python3"
  },
  "language_info": {
   "codemirror_mode": {
    "name": "ipython",
    "version": 3
   },
   "file_extension": ".py",
   "mimetype": "text/x-python",
   "name": "python",
   "nbconvert_exporter": "python",
   "pygments_lexer": "ipython3",
   "version": "3.9.13"
  },
  "orig_nbformat": 4
 },
 "nbformat": 4,
 "nbformat_minor": 2
}
